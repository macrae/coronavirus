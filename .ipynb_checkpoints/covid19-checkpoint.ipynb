{
 "cells": [
  {
   "cell_type": "code",
   "execution_count": 117,
   "metadata": {},
   "outputs": [],
   "source": [
    "import pandas as pd"
   ]
  },
  {
   "cell_type": "code",
   "execution_count": 140,
   "metadata": {},
   "outputs": [],
   "source": [
    "confirmed = pd.read_csv(\n",
    "    \"./COVID-19/csse_covid_19_data/csse_covid_19_time_series/time_series_covid19_confirmed_global.csv\")\n",
    "confirmed = pd.melt(\n",
    "    confirmed, id_vars=[\"Country/Region\", \"Province/State\", \"Lat\", \"Long\"]).drop([\"Lat\", \"Long\"], axis=1)\n",
    "\n",
    "confirmed.columns =[\"Country/Region\", \"Province/State\", \"date\", \"confirmed\"]\n",
    "\n",
    "confirmed.date = confirmed.date.astype(str)"
   ]
  },
  {
   "cell_type": "code",
   "execution_count": 141,
   "metadata": {},
   "outputs": [],
   "source": [
    "recovered = pd.read_csv(\n",
    "    \"./COVID-19/csse_covid_19_data/csse_covid_19_time_series/time_series_covid19_recovered_global.csv\")\n",
    "recovered = pd.melt(\n",
    "    recovered, id_vars=[\"Country/Region\", \"Province/State\", \"Lat\", \"Long\"]).drop([\"Lat\", \"Long\"], axis=1)\n",
    "\n",
    "recovered.columns =[\"Country/Region\", \"Province/State\", \"date\", \"recovered\"]\n",
    "\n",
    "recovered.date = [x[:-2] for x in recovered.date.astype(str)]"
   ]
  },
  {
   "cell_type": "code",
   "execution_count": 142,
   "metadata": {},
   "outputs": [],
   "source": [
    "deaths = pd.read_csv(\n",
    "    \"./COVID-19/csse_covid_19_data/csse_covid_19_time_series/time_series_covid19_deaths_global.csv\")\n",
    "deaths = pd.melt(\n",
    "    deaths, id_vars=[\"Country/Region\", \"Province/State\", \"Lat\", \"Long\"]).drop([\"Lat\", \"Long\"], axis=1)\n",
    "\n",
    "deaths.columns =[\"Country/Region\", \"Province/State\", \"date\", \"deaths\"]\n",
    "\n",
    "deaths.date = deaths.date.astype(str)"
   ]
  },
  {
   "cell_type": "code",
   "execution_count": 143,
   "metadata": {},
   "outputs": [],
   "source": [
    "df = pd.merge(confirmed, recovered, how=\"left\", on=[\"Country/Region\", \"Province/State\", \"date\"])\n",
    "df = pd.merge(df, deaths, how=\"left\", on=[\"Country/Region\", \"Province/State\", \"date\"])"
   ]
  },
  {
   "cell_type": "code",
   "execution_count": 147,
   "metadata": {},
   "outputs": [
    {
     "data": {
      "text/html": [
       "<div>\n",
       "<style scoped>\n",
       "    .dataframe tbody tr th:only-of-type {\n",
       "        vertical-align: middle;\n",
       "    }\n",
       "\n",
       "    .dataframe tbody tr th {\n",
       "        vertical-align: top;\n",
       "    }\n",
       "\n",
       "    .dataframe thead th {\n",
       "        text-align: right;\n",
       "    }\n",
       "</style>\n",
       "<table border=\"1\" class=\"dataframe\">\n",
       "  <thead>\n",
       "    <tr style=\"text-align: right;\">\n",
       "      <th></th>\n",
       "      <th>confirmed</th>\n",
       "      <th>recovered</th>\n",
       "      <th>deaths</th>\n",
       "    </tr>\n",
       "  </thead>\n",
       "  <tbody>\n",
       "    <tr>\n",
       "      <th>count</th>\n",
       "      <td>15743.000000</td>\n",
       "      <td>14238.000000</td>\n",
       "      <td>15743.000000</td>\n",
       "    </tr>\n",
       "    <tr>\n",
       "      <th>mean</th>\n",
       "      <td>410.412691</td>\n",
       "      <td>146.404762</td>\n",
       "      <td>15.153719</td>\n",
       "    </tr>\n",
       "    <tr>\n",
       "      <th>std</th>\n",
       "      <td>3981.884845</td>\n",
       "      <td>2147.666299</td>\n",
       "      <td>200.394946</td>\n",
       "    </tr>\n",
       "    <tr>\n",
       "      <th>min</th>\n",
       "      <td>-1.000000</td>\n",
       "      <td>0.000000</td>\n",
       "      <td>-1.000000</td>\n",
       "    </tr>\n",
       "    <tr>\n",
       "      <th>25%</th>\n",
       "      <td>0.000000</td>\n",
       "      <td>0.000000</td>\n",
       "      <td>0.000000</td>\n",
       "    </tr>\n",
       "    <tr>\n",
       "      <th>50%</th>\n",
       "      <td>0.000000</td>\n",
       "      <td>0.000000</td>\n",
       "      <td>0.000000</td>\n",
       "    </tr>\n",
       "    <tr>\n",
       "      <th>75%</th>\n",
       "      <td>18.000000</td>\n",
       "      <td>1.000000</td>\n",
       "      <td>0.000000</td>\n",
       "    </tr>\n",
       "    <tr>\n",
       "      <th>max</th>\n",
       "      <td>74386.000000</td>\n",
       "      <td>60324.000000</td>\n",
       "      <td>7503.000000</td>\n",
       "    </tr>\n",
       "  </tbody>\n",
       "</table>\n",
       "</div>"
      ],
      "text/plain": [
       "          confirmed     recovered        deaths\n",
       "count  15743.000000  14238.000000  15743.000000\n",
       "mean     410.412691    146.404762     15.153719\n",
       "std     3981.884845   2147.666299    200.394946\n",
       "min       -1.000000      0.000000     -1.000000\n",
       "25%        0.000000      0.000000      0.000000\n",
       "50%        0.000000      0.000000      0.000000\n",
       "75%       18.000000      1.000000      0.000000\n",
       "max    74386.000000  60324.000000   7503.000000"
      ]
     },
     "execution_count": 147,
     "metadata": {},
     "output_type": "execute_result"
    }
   ],
   "source": [
    "df.describe()"
   ]
  },
  {
   "cell_type": "code",
   "execution_count": null,
   "metadata": {},
   "outputs": [],
   "source": []
  }
 ],
 "metadata": {
  "kernelspec": {
   "display_name": "Python 3",
   "language": "python",
   "name": "python3"
  },
  "language_info": {
   "codemirror_mode": {
    "name": "ipython",
    "version": 3
   },
   "file_extension": ".py",
   "mimetype": "text/x-python",
   "name": "python",
   "nbconvert_exporter": "python",
   "pygments_lexer": "ipython3",
   "version": "3.6.9"
  }
 },
 "nbformat": 4,
 "nbformat_minor": 4
}
